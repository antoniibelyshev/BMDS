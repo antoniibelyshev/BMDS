{
 "cells": [
  {
   "cell_type": "code",
   "execution_count": 1,
   "id": "5a4ccb02eefdcebb",
   "metadata": {
    "ExecuteTime": {
     "end_time": "2024-03-04T09:10:19.803627355Z",
     "start_time": "2024-03-04T09:10:18.240604766Z"
    },
    "collapsed": false
   },
   "outputs": [],
   "source": [
    "import os\n",
    "from tqdm import trange\n",
    "\n",
    "from sklearn.datasets import fetch_openml\n",
    "from sklearn.model_selection import KFold\n",
    "from sklearn.metrics import accuracy_score\n",
    "from sklearn.decomposition import PCA\n",
    "import numpy as np\n",
    "import pandas as pd\n",
    "import torch\n",
    "import wandb\n",
    "from pytorch_lightning import loggers\n",
    "\n",
    "import utils"
   ]
  },
  {
   "cell_type": "code",
   "execution_count": 2,
   "id": "7c2c7a2210878cfb",
   "metadata": {
    "ExecuteTime": {
     "end_time": "2024-03-04T09:12:41.544603699Z",
     "start_time": "2024-03-04T09:12:41.374481511Z"
    },
    "collapsed": false
   },
   "outputs": [],
   "source": [
    "if not os.path.isdir(\"./data\"):\n",
    "    !mkdir data\n",
    "\n",
    "filename = \"./data/mnist.npz\"\n",
    "if os.path.isfile(filename):\n",
    "    digits, labels, dist_mat = np.load(filename).values()\n",
    "    N = len(digits)\n",
    "else:\n",
    "    N = 10000\n",
    "    mnist = fetch_openml(\"mnist_784\", version=1)\n",
    "\n",
    "    idx = np.random.choice(np.arange(len(mnist[\"data\"])), size=N, replace=False)\n",
    "    digits, labels = mnist[\"data\"].values[idx], mnist[\"target\"].astype(int).values[idx]\n",
    "\n",
    "    digits /= digits.max()\n",
    "\n",
    "    dist_mat = np.zeros((N, N), dtype=float)\n",
    "    for i in trange(N):\n",
    "        for j in range(i):\n",
    "            dist_mat[i, j] = dist_mat[j, i] = ((digits[i] - digits[j]) ** 2).sum() ** 0.5\n",
    "            \n",
    "    np.savez(filename, digits=digits, labels=labels, dist_mat=dist_mat)"
   ]
  },
  {
   "cell_type": "code",
   "execution_count": 3,
   "id": "4f3ce73cac85a10e",
   "metadata": {
    "collapsed": false
   },
   "outputs": [
    {
     "name": "stderr",
     "output_type": "stream",
     "text": [
      "Failed to detect the name of this notebook, you can set it manually with the WANDB_NOTEBOOK_NAME environment variable to enable code saving.\n",
      "\u001b[34m\u001b[1mwandb\u001b[0m: Currently logged in as: \u001b[33mantonii-belyshev\u001b[0m (\u001b[33mai-prentice\u001b[0m). Use \u001b[1m`wandb login --relogin`\u001b[0m to force relogin\n"
     ]
    },
    {
     "data": {
      "text/html": [
       "Tracking run with wandb version 0.16.3"
      ],
      "text/plain": [
       "<IPython.core.display.HTML object>"
      ]
     },
     "metadata": {},
     "output_type": "display_data"
    },
    {
     "data": {
      "text/html": [
       "Run data is saved locally in <code>/home/coder/project/wandb/run-20240304_155712-49vun45c</code>"
      ],
      "text/plain": [
       "<IPython.core.display.HTML object>"
      ]
     },
     "metadata": {},
     "output_type": "display_data"
    },
    {
     "data": {
      "text/html": [
       "Syncing run <strong><a href='https://wandb.ai/ai-prentice/mnist%20bmds%20train/runs/49vun45c' target=\"_blank\">fanciful-meadow-13</a></strong> to <a href='https://wandb.ai/ai-prentice/mnist%20bmds%20train' target=\"_blank\">Weights & Biases</a> (<a href='https://wandb.me/run' target=\"_blank\">docs</a>)<br/>"
      ],
      "text/plain": [
       "<IPython.core.display.HTML object>"
      ]
     },
     "metadata": {},
     "output_type": "display_data"
    },
    {
     "data": {
      "text/html": [
       " View project at <a href='https://wandb.ai/ai-prentice/mnist%20bmds%20train' target=\"_blank\">https://wandb.ai/ai-prentice/mnist%20bmds%20train</a>"
      ],
      "text/plain": [
       "<IPython.core.display.HTML object>"
      ]
     },
     "metadata": {},
     "output_type": "display_data"
    },
    {
     "data": {
      "text/html": [
       " View run at <a href='https://wandb.ai/ai-prentice/mnist%20bmds%20train/runs/49vun45c' target=\"_blank\">https://wandb.ai/ai-prentice/mnist%20bmds%20train/runs/49vun45c</a>"
      ],
      "text/plain": [
       "<IPython.core.display.HTML object>"
      ]
     },
     "metadata": {},
     "output_type": "display_data"
    },
    {
     "name": "stderr",
     "output_type": "stream",
     "text": [
      "/usr/local/lib/python3.8/dist-packages/pytorch_lightning/loggers/wandb.py:347: UserWarning: There is a wandb run already in progress and newly created instances of `WandbLogger` will reuse this run. If this is not desired, call `wandb.finish()` before instantiating `WandbLogger`.\n",
      "  rank_zero_warn(\n",
      "GPU available: True, used: True\n",
      "TPU available: False, using: 0 TPU cores\n",
      "IPU available: False, using: 0 IPUs\n",
      "HPU available: False, using: 0 HPUs\n",
      "LOCAL_RANK: 0 - CUDA_VISIBLE_DEVICES: [0]\n",
      "\n",
      "  | Name | Type | Params\n",
      "------------------------------\n",
      "------------------------------\n",
      "0         Trainable params\n",
      "0         Non-trainable params\n",
      "0         Total params\n",
      "0.000     Total estimated model params size (MB)\n"
     ]
    },
    {
     "name": "stdout",
     "output_type": "stream",
     "text": [
      "\n",
      "Learning the optimal train embedding...\n"
     ]
    },
    {
     "name": "stderr",
     "output_type": "stream",
     "text": [
      "/usr/local/lib/python3.8/dist-packages/pytorch_lightning/trainer/connectors/data_connector.py:240: PossibleUserWarning: The dataloader, train_dataloader, does not have many workers which may be a bottleneck. Consider increasing the value of the `num_workers` argument` (try 24 which is the number of cpus on this machine) in the `DataLoader` init to improve performance.\n",
      "  rank_zero_warn(\n"
     ]
    },
    {
     "data": {
      "application/vnd.jupyter.widget-view+json": {
       "model_id": "7f46f21eabc04121b3e68a545c1e970d",
       "version_major": 2,
       "version_minor": 0
      },
      "text/plain": [
       "Training: 0it [00:00, ?it/s]"
      ]
     },
     "metadata": {},
     "output_type": "display_data"
    },
    {
     "name": "stderr",
     "output_type": "stream",
     "text": [
      "wandb: WARNING Source type is set to 'repo' but some required information is missing from the environment. A job will not be created from this run. See https://docs.wandb.ai/guides/launch/create-job\n"
     ]
    },
    {
     "data": {
      "application/vnd.jupyter.widget-view+json": {
       "model_id": "cd8d8b7eb9494e6da2b96921b61bb516",
       "version_major": 2,
       "version_minor": 0
      },
      "text/plain": [
       "VBox(children=(Label(value='0.003 MB of 0.003 MB uploaded\\r'), FloatProgress(value=1.0, max=1.0)))"
      ]
     },
     "metadata": {},
     "output_type": "display_data"
    },
    {
     "data": {
      "text/html": [
       "<style>\n",
       "    table.wandb td:nth-child(1) { padding: 0 10px; text-align: left ; width: auto;} td:nth-child(2) {text-align: left ; width: 100%}\n",
       "    .wandb-row { display: flex; flex-direction: row; flex-wrap: wrap; justify-content: flex-start; width: 100% }\n",
       "    .wandb-col { display: flex; flex-direction: column; flex-basis: 100%; flex: 1; padding: 10px; }\n",
       "    </style>\n",
       "<div class=\"wandb-row\"><div class=\"wandb-col\"><h3>Run history:</h3><br/><table class=\"wandb\"><tr><td>dim</td><td>██▇▇▆▆▆▅▅▄▄▃▃▃▂▂▁▁▁▁▁▁▁▁▁▁▁▁▁▁▁▁▁▁▁▁▁▁▁▁</td></tr><tr><td>epoch</td><td>▁▁▁▁▁▁▁▁▁▁▁▁▁▁▁▁▁▁▁▁████████████████████</td></tr><tr><td>frac</td><td>▁▁▁▁▁▁▁▁▁▁▁▂▂▂▂▃▄▆▆▆▆▇▇▇▇▇▇▇▇▇▇█▇▇███▇██</td></tr><tr><td>loss</td><td>█▄▁▁▁▁▁▁▁▁▁▁▁▁▁▁▁▁▁▁▁▁▁▁▁▁▁▁▁▁▁▁▁▁▁▁▁▁▁▁</td></tr><tr><td>reg</td><td>▆█▇▄▂▂▂▁▁▁▁▁▁▁▁▁▁▁▁▁▁▁▁▁▁▁▁▁▁▁▁▁▁▁▁▁▁▁▁▁</td></tr><tr><td>total_loss</td><td>█▄▁▁▁▁▁▁▁▁▁▁▁▁▁▁▁▁▁▁▁▁▁▁▁▁▁▁▁▁▁▁▁▁▁▁▁▁▁▁</td></tr><tr><td>trainer/global_step</td><td>▁▁▁▂▂▂▂▂▂▃▃▃▃▃▃▄▄▄▄▄▅▅▅▅▅▅▆▆▆▆▆▆▇▇▇▇▇███</td></tr></table><br/></div><div class=\"wandb-col\"><h3>Run summary:</h3><br/><table class=\"wandb\"><tr><td>dim</td><td>13.0</td></tr><tr><td>epoch</td><td>1</td></tr><tr><td>frac</td><td>0.20674</td></tr><tr><td>loss</td><td>0.01923</td></tr><tr><td>reg</td><td>0.00642</td></tr><tr><td>total_loss</td><td>0.02565</td></tr><tr><td>trainer/global_step</td><td>3999</td></tr></table><br/></div></div>"
      ],
      "text/plain": [
       "<IPython.core.display.HTML object>"
      ]
     },
     "metadata": {},
     "output_type": "display_data"
    },
    {
     "data": {
      "text/html": [
       " View run <strong style=\"color:#cdcd00\">fanciful-meadow-13</strong> at: <a href='https://wandb.ai/ai-prentice/mnist%20bmds%20train/runs/49vun45c' target=\"_blank\">https://wandb.ai/ai-prentice/mnist%20bmds%20train/runs/49vun45c</a><br/>Synced 5 W&B file(s), 0 media file(s), 0 artifact file(s) and 0 other file(s)"
      ],
      "text/plain": [
       "<IPython.core.display.HTML object>"
      ]
     },
     "metadata": {},
     "output_type": "display_data"
    },
    {
     "data": {
      "text/html": [
       "Find logs at: <code>./wandb/run-20240304_155712-49vun45c/logs</code>"
      ],
      "text/plain": [
       "<IPython.core.display.HTML object>"
      ]
     },
     "metadata": {},
     "output_type": "display_data"
    },
    {
     "data": {
      "application/vnd.jupyter.widget-view+json": {
       "model_id": "c94ed4a713944023b85adf806588e7ad",
       "version_major": 2,
       "version_minor": 0
      },
      "text/plain": [
       "VBox(children=(Label(value='Waiting for wandb.init()...\\r'), FloatProgress(value=0.011112896534096863, max=1.0…"
      ]
     },
     "metadata": {},
     "output_type": "display_data"
    },
    {
     "data": {
      "text/html": [
       "Tracking run with wandb version 0.16.3"
      ],
      "text/plain": [
       "<IPython.core.display.HTML object>"
      ]
     },
     "metadata": {},
     "output_type": "display_data"
    },
    {
     "data": {
      "text/html": [
       "Run data is saved locally in <code>/home/coder/project/wandb/run-20240304_161729-nka3dj4m</code>"
      ],
      "text/plain": [
       "<IPython.core.display.HTML object>"
      ]
     },
     "metadata": {},
     "output_type": "display_data"
    },
    {
     "data": {
      "text/html": [
       "Syncing run <strong><a href='https://wandb.ai/ai-prentice/mnist%20bmds%20eval/runs/nka3dj4m' target=\"_blank\">graceful-leaf-9</a></strong> to <a href='https://wandb.ai/ai-prentice/mnist%20bmds%20eval' target=\"_blank\">Weights & Biases</a> (<a href='https://wandb.me/run' target=\"_blank\">docs</a>)<br/>"
      ],
      "text/plain": [
       "<IPython.core.display.HTML object>"
      ]
     },
     "metadata": {},
     "output_type": "display_data"
    },
    {
     "data": {
      "text/html": [
       " View project at <a href='https://wandb.ai/ai-prentice/mnist%20bmds%20eval' target=\"_blank\">https://wandb.ai/ai-prentice/mnist%20bmds%20eval</a>"
      ],
      "text/plain": [
       "<IPython.core.display.HTML object>"
      ]
     },
     "metadata": {},
     "output_type": "display_data"
    },
    {
     "data": {
      "text/html": [
       " View run at <a href='https://wandb.ai/ai-prentice/mnist%20bmds%20eval/runs/nka3dj4m' target=\"_blank\">https://wandb.ai/ai-prentice/mnist%20bmds%20eval/runs/nka3dj4m</a>"
      ],
      "text/plain": [
       "<IPython.core.display.HTML object>"
      ]
     },
     "metadata": {},
     "output_type": "display_data"
    },
    {
     "name": "stderr",
     "output_type": "stream",
     "text": [
      "/usr/local/lib/python3.8/dist-packages/pytorch_lightning/loggers/wandb.py:347: UserWarning: There is a wandb run already in progress and newly created instances of `WandbLogger` will reuse this run. If this is not desired, call `wandb.finish()` before instantiating `WandbLogger`.\n",
      "  rank_zero_warn(\n",
      "GPU available: True, used: True\n",
      "TPU available: False, using: 0 TPU cores\n",
      "IPU available: False, using: 0 IPUs\n",
      "HPU available: False, using: 0 HPUs\n",
      "LOCAL_RANK: 0 - CUDA_VISIBLE_DEVICES: [0]\n",
      "\n",
      "  | Name | Type | Params\n",
      "------------------------------\n",
      "------------------------------\n",
      "0         Trainable params\n",
      "0         Non-trainable params\n",
      "0         Total params\n",
      "0.000     Total estimated model params size (MB)\n"
     ]
    },
    {
     "name": "stdout",
     "output_type": "stream",
     "text": [
      "\n",
      "Learning the optimal train embedding...\n"
     ]
    },
    {
     "name": "stderr",
     "output_type": "stream",
     "text": [
      "/usr/local/lib/python3.8/dist-packages/pytorch_lightning/trainer/connectors/data_connector.py:240: PossibleUserWarning: The dataloader, train_dataloader, does not have many workers which may be a bottleneck. Consider increasing the value of the `num_workers` argument` (try 24 which is the number of cpus on this machine) in the `DataLoader` init to improve performance.\n",
      "  rank_zero_warn(\n"
     ]
    },
    {
     "data": {
      "application/vnd.jupyter.widget-view+json": {
       "model_id": "1f3843a39f12497f960894be859c8b49",
       "version_major": 2,
       "version_minor": 0
      },
      "text/plain": [
       "Training: 0it [00:00, ?it/s]"
      ]
     },
     "metadata": {},
     "output_type": "display_data"
    },
    {
     "name": "stderr",
     "output_type": "stream",
     "text": [
      "wandb: WARNING Source type is set to 'repo' but some required information is missing from the environment. A job will not be created from this run. See https://docs.wandb.ai/guides/launch/create-job\n"
     ]
    },
    {
     "data": {
      "application/vnd.jupyter.widget-view+json": {
       "model_id": "7f6f0e4cc54649f3867fac093b434844",
       "version_major": 2,
       "version_minor": 0
      },
      "text/plain": [
       "VBox(children=(Label(value='0.003 MB of 0.003 MB uploaded\\r'), FloatProgress(value=1.0, max=1.0)))"
      ]
     },
     "metadata": {},
     "output_type": "display_data"
    },
    {
     "data": {
      "text/html": [
       "<style>\n",
       "    table.wandb td:nth-child(1) { padding: 0 10px; text-align: left ; width: auto;} td:nth-child(2) {text-align: left ; width: 100%}\n",
       "    .wandb-row { display: flex; flex-direction: row; flex-wrap: wrap; justify-content: flex-start; width: 100% }\n",
       "    .wandb-col { display: flex; flex-direction: column; flex-basis: 100%; flex: 1; padding: 10px; }\n",
       "    </style>\n",
       "<div class=\"wandb-row\"><div class=\"wandb-col\"><h3>Run history:</h3><br/><table class=\"wandb\"><tr><td>dim</td><td>▁▁▁▁▁▁▁▁▁▁▁▁▁▁▁▁▁▁▁▁▁▁▁▁▁▁▁▁▁▁▁▁▁▁▁▁▁▁▁▁</td></tr><tr><td>epoch</td><td>▁▁▁▂▂▂▂▂▂▃▃▃▃▃▄▄▄▄▄▄▅▅▅▅▅▅▆▆▆▆▆▇▇▇▇▇▇███</td></tr><tr><td>loss</td><td>█▁▁▁▁▁▁▁▁▁▁▁▁▁▁▁▁▁▁▁▁▁▁▁▁▁▁▁▁▁▁▁▁▁▁▁▁▁▁▁</td></tr><tr><td>reg</td><td>▁███████████████████████████████████████</td></tr><tr><td>total_loss</td><td>█▁▁▁▁▁▁▁▁▁▁▁▁▁▁▁▁▁▁▁▁▁▁▁▁▁▁▁▁▁▁▁▁▁▁▁▁▁▁▁</td></tr><tr><td>trainer/global_step</td><td>▁▁▁▂▂▂▂▂▂▃▃▃▃▃▄▄▄▄▄▄▅▅▅▅▅▅▆▆▆▆▆▇▇▇▇▇▇███</td></tr></table><br/></div><div class=\"wandb-col\"><h3>Run summary:</h3><br/><table class=\"wandb\"><tr><td>dim</td><td>13.0</td></tr><tr><td>epoch</td><td>499</td></tr><tr><td>loss</td><td>35.6328</td></tr><tr><td>reg</td><td>20.05953</td></tr><tr><td>total_loss</td><td>55.69233</td></tr><tr><td>trainer/global_step</td><td>49999</td></tr></table><br/></div></div>"
      ],
      "text/plain": [
       "<IPython.core.display.HTML object>"
      ]
     },
     "metadata": {},
     "output_type": "display_data"
    },
    {
     "data": {
      "text/html": [
       " View run <strong style=\"color:#cdcd00\">graceful-leaf-9</strong> at: <a href='https://wandb.ai/ai-prentice/mnist%20bmds%20eval/runs/nka3dj4m' target=\"_blank\">https://wandb.ai/ai-prentice/mnist%20bmds%20eval/runs/nka3dj4m</a><br/>Synced 5 W&B file(s), 0 media file(s), 0 artifact file(s) and 0 other file(s)"
      ],
      "text/plain": [
       "<IPython.core.display.HTML object>"
      ]
     },
     "metadata": {},
     "output_type": "display_data"
    },
    {
     "data": {
      "text/html": [
       "Find logs at: <code>./wandb/run-20240304_161729-nka3dj4m/logs</code>"
      ],
      "text/plain": [
       "<IPython.core.display.HTML object>"
      ]
     },
     "metadata": {},
     "output_type": "display_data"
    },
    {
     "data": {
      "application/vnd.jupyter.widget-view+json": {
       "model_id": "b448bd4130e64dd2917f08b49df2a101",
       "version_major": 2,
       "version_minor": 0
      },
      "text/plain": [
       "VBox(children=(Label(value='Waiting for wandb.init()...\\r'), FloatProgress(value=0.011112890635720558, max=1.0…"
      ]
     },
     "metadata": {},
     "output_type": "display_data"
    },
    {
     "data": {
      "text/html": [
       "Tracking run with wandb version 0.16.3"
      ],
      "text/plain": [
       "<IPython.core.display.HTML object>"
      ]
     },
     "metadata": {},
     "output_type": "display_data"
    },
    {
     "data": {
      "text/html": [
       "Run data is saved locally in <code>/home/coder/project/wandb/run-20240304_162255-bv04lpwo</code>"
      ],
      "text/plain": [
       "<IPython.core.display.HTML object>"
      ]
     },
     "metadata": {},
     "output_type": "display_data"
    },
    {
     "data": {
      "text/html": [
       "Syncing run <strong><a href='https://wandb.ai/ai-prentice/mnist%20bmds%20clf/runs/bv04lpwo' target=\"_blank\">crisp-firebrand-6</a></strong> to <a href='https://wandb.ai/ai-prentice/mnist%20bmds%20clf' target=\"_blank\">Weights & Biases</a> (<a href='https://wandb.me/run' target=\"_blank\">docs</a>)<br/>"
      ],
      "text/plain": [
       "<IPython.core.display.HTML object>"
      ]
     },
     "metadata": {},
     "output_type": "display_data"
    },
    {
     "data": {
      "text/html": [
       " View project at <a href='https://wandb.ai/ai-prentice/mnist%20bmds%20clf' target=\"_blank\">https://wandb.ai/ai-prentice/mnist%20bmds%20clf</a>"
      ],
      "text/plain": [
       "<IPython.core.display.HTML object>"
      ]
     },
     "metadata": {},
     "output_type": "display_data"
    },
    {
     "data": {
      "text/html": [
       " View run at <a href='https://wandb.ai/ai-prentice/mnist%20bmds%20clf/runs/bv04lpwo' target=\"_blank\">https://wandb.ai/ai-prentice/mnist%20bmds%20clf/runs/bv04lpwo</a>"
      ],
      "text/plain": [
       "<IPython.core.display.HTML object>"
      ]
     },
     "metadata": {},
     "output_type": "display_data"
    },
    {
     "name": "stderr",
     "output_type": "stream",
     "text": [
      "/usr/local/lib/python3.8/dist-packages/pytorch_lightning/loggers/wandb.py:347: UserWarning: There is a wandb run already in progress and newly created instances of `WandbLogger` will reuse this run. If this is not desired, call `wandb.finish()` before instantiating `WandbLogger`.\n",
      "  rank_zero_warn(\n",
      "GPU available: True, used: True\n",
      "TPU available: False, using: 0 TPU cores\n",
      "IPU available: False, using: 0 IPUs\n",
      "HPU available: False, using: 0 HPUs\n",
      "LOCAL_RANK: 0 - CUDA_VISIBLE_DEVICES: [0]\n",
      "\n",
      "  | Name    | Type             | Params\n",
      "---------------------------------------------\n",
      "0 | layers  | ModuleList       | 666   \n",
      "1 | loss_fn | CrossEntropyLoss | 0     \n",
      "---------------------------------------------\n",
      "666       Trainable params\n",
      "0         Non-trainable params\n",
      "666       Total params\n",
      "0.003     Total estimated model params size (MB)\n",
      "/usr/local/lib/python3.8/dist-packages/pytorch_lightning/trainer/connectors/data_connector.py:240: PossibleUserWarning: The dataloader, train_dataloader, does not have many workers which may be a bottleneck. Consider increasing the value of the `num_workers` argument` (try 24 which is the number of cpus on this machine) in the `DataLoader` init to improve performance.\n",
      "  rank_zero_warn(\n"
     ]
    },
    {
     "data": {
      "application/vnd.jupyter.widget-view+json": {
       "model_id": "86ac137543ad473cb1c7168f300208c3",
       "version_major": 2,
       "version_minor": 0
      },
      "text/plain": [
       "Training: 0it [00:00, ?it/s]"
      ]
     },
     "metadata": {},
     "output_type": "display_data"
    }
   ],
   "source": [
    "metrics = {\n",
    "    \"bmds_train_acc\": [],\n",
    "    \"bmds_eval_acc\": [],\n",
    "    \"bmds_eval_acc_bayes\": [],\n",
    "    \"pca_train_acc\": [],\n",
    "    \"pca_eval_acc\": [],\n",
    "}\n",
    "\n",
    "k_fold = KFold(n_splits=5, shuffle=True, random_state=42)\n",
    "for idx_train, idx_eval in k_fold.split(torch.arange(N)):\n",
    "    digits_train, digits_eval = digits[idx_train], digits[idx_eval]\n",
    "    labels_train, labels_eval = labels[idx_train], labels[idx_eval]\n",
    "    dist_mat_train, dist_mat_eval = dist_mat[idx_train[:, None], idx_train], dist_mat[idx_train[:, None], idx_eval]\n",
    "    \n",
    "    bmds = utils.SklearnBMDS(bmds_train_kwargs={\"max_dim\": 100, \"threshold\": 0.1})\n",
    "    \n",
    "    run = wandb.init(project=\"mnist bmds train\")\n",
    "    logger = loggers.WandbLogger()\n",
    "    x_train, std_train = bmds.fit_transform(dist_mat_train, max_epochs=2, logger=logger)\n",
    "    run.finish()\n",
    "    \n",
    "    run = wandb.init(project=\"mnist bmds eval\")\n",
    "    logger = loggers.WandbLogger()\n",
    "    x_eval, std_eval = bmds.transform(dist_mat_eval, logger=logger)\n",
    "    run.finish()\n",
    "    \n",
    "    clf = utils.SklearnMLPClassifier(labels_train.max() + 1)\n",
    "    run = wandb.init(project=\"mnist bmds clf\")\n",
    "    logger = loggers.WandbLogger()\n",
    "    pred_train = clf.fit_predict(x_train, labels_train, std_train, logger=logger)\n",
    "    pred_eval = clf.predict(x_eval)\n",
    "    pred_eval_bayes = clf.predict(x_eval, std_eval)\n",
    "    logger.log_hyperparams({\n",
    "        \"train_acc\": accuracy_score(pred_train, labels_train),\n",
    "        \"eval_acc\": accuracy_score(pred_eval, labels_eval),\n",
    "        \"eval_acc_bayes\": accuracy_score(pred_eval_bayes, labels_eval),\n",
    "    })\n",
    "    run.finish()\n",
    "    \n",
    "    metrics[\"bmds_train_acc\"].append(accuracy_score(pred_train, labels_train))\n",
    "    metrics[\"bmds_eval_acc\"].append(accuracy_score(pred_eval, labels_eval))\n",
    "    metrics[\"bmds_eval_acc_bayes\"].append(accuracy_score(pred_eval_bayes, labels_eval))\n",
    "    \n",
    "    \n",
    "    pca = PCA(n_components=bmds.dim)\n",
    "    pca_train = pca.fit_transform(digits_train)\n",
    "    pca_eval = pca.transform(digits_eval)\n",
    "    \n",
    "    clf = utils.SklearnMLPClassifier(labels_train.max() + 1)\n",
    "    run = wandb.init(project=\"mnist pca clf\")\n",
    "    logger = loggers.WandbLogger()\n",
    "    pred_train = clf.fit_predict(pca_train, labels_train, logger=logger)\n",
    "    pred_eval = clf.predict(pca_eval)\n",
    "    logger.log_hyperparams({\n",
    "        \"train_acc\": accuracy_score(pred_train, labels_train),\n",
    "        \"eval_acc\": accuracy_score(pred_eval, labels_eval),\n",
    "    })\n",
    "    run.finish()\n",
    "    \n",
    "    metrics[\"pca_train_acc\"].append(accuracy_score(pred_train, labels_train))\n",
    "    metrics[\"pca_eval_acc\"].append(accuracy_score(pred_eval, labels_eval))"
   ]
  },
  {
   "cell_type": "code",
   "execution_count": null,
   "id": "5aecd1fbd12324c7",
   "metadata": {
    "collapsed": false
   },
   "outputs": [],
   "source": [
    "metrics_df = pd.DataFrame(metrics)\n",
    "metrics_df"
   ]
  },
  {
   "cell_type": "code",
   "execution_count": null,
   "id": "73fcd265c9708672",
   "metadata": {
    "collapsed": false
   },
   "outputs": [],
   "source": [
    "mean_values = metrics_df.mean()\n",
    "std_values = metrics_df.std()\n",
    "\n",
    "summary_df = pd.DataFrame([mean_values, std_values], index=['Mean', 'Std'])\n",
    "summary_df"
   ]
  },
  {
   "cell_type": "code",
   "execution_count": null,
   "id": "025e7fd1",
   "metadata": {},
   "outputs": [],
   "source": []
  }
 ],
 "metadata": {
  "kernelspec": {
   "display_name": "Python 3",
   "language": "python",
   "name": "python3"
  },
  "language_info": {
   "codemirror_mode": {
    "name": "ipython",
    "version": 3
   },
   "file_extension": ".py",
   "mimetype": "text/x-python",
   "name": "python",
   "nbconvert_exporter": "python",
   "pygments_lexer": "ipython3",
   "version": "3.8.10"
  }
 },
 "nbformat": 4,
 "nbformat_minor": 5
}
