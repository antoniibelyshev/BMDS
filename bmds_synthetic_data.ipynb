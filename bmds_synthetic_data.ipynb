{
 "cells": [
  {
   "cell_type": "code",
   "execution_count": 3,
   "id": "initial_id",
   "metadata": {
    "ExecuteTime": {
     "end_time": "2024-06-04T16:33:48.301505Z",
     "start_time": "2024-06-04T16:33:47.202645Z"
    },
    "collapsed": true
   },
   "outputs": [],
   "source": [
    "from utils.trainer import ClassifierTrainer"
   ]
  },
  {
   "cell_type": "code",
   "execution_count": 1,
   "id": "e6b5cd6ea2fe6d39",
   "metadata": {
    "ExecuteTime": {
     "end_time": "2024-06-04T16:33:48.351212Z",
     "start_time": "2024-06-04T16:33:48.319015Z"
    }
   },
   "outputs": [],
   "source": [
    "from utils.nn import create_mlp_layers\n",
    "import torch\n",
    "\n",
    "\n",
    "clf = torch.nn.Sequential(*create_mlp_layers(784, [300, 100], 10))"
   ]
  },
  {
   "cell_type": "code",
   "execution_count": 5,
   "id": "9029e52340b7c352",
   "metadata": {
    "ExecuteTime": {
     "end_time": "2024-06-04T16:33:59.410770Z",
     "start_time": "2024-06-04T16:33:48.354783Z"
    }
   },
   "outputs": [],
   "source": [
    "from sklearn.datasets import fetch_openml\n",
    "\n",
    "\n",
    "mnist = fetch_openml('mnist_784', version=1, parser='auto')\n",
    "X, y = mnist['data'], mnist['target']"
   ]
  },
  {
   "cell_type": "code",
   "execution_count": 2,
   "id": "727e677f8a948d5e",
   "metadata": {
    "ExecuteTime": {
     "end_time": "2024-06-04T17:37:20.659708Z",
     "start_time": "2024-06-04T17:37:20.646528Z"
    }
   },
   "outputs": [],
   "source": [
    "class NamedDataset(torch.utils.data.Dataset):\n",
    "    def __init__(self, names: list[str], data: list[torch.Tensor]):\n",
    "        self.names = names\n",
    "        self.data = data\n",
    "        \n",
    "    def __len__(self) -> int:\n",
    "        return len(self.data[0])\n",
    "    \n",
    "    def __getitem__(self, idx) -> dict[str, torch.Tensor]:\n",
    "        return {name: data[idx] for name, data in zip(self.names, self.data)}\n",
    "\n",
    "\n",
    "def create_generator(dataset: torch.utils.data.Dataset, batch_size: int = 128, shuffle: bool = True, drop_last: bool = True, **kwargs):\n",
    "    loader = torch.utils.data.DataLoader(dataset, batch_size=batch_size, shuffle=shuffle, drop_last=drop_last, **kwargs)\n",
    "    while True:\n",
    "        yield from loader"
   ]
  },
  {
   "cell_type": "code",
   "execution_count": 7,
   "id": "5494d89e7d53594c",
   "metadata": {
    "ExecuteTime": {
     "end_time": "2024-06-04T16:34:01.115868Z",
     "start_time": "2024-06-04T16:33:59.424149Z"
    }
   },
   "outputs": [],
   "source": [
    "train_generator = create_generator(NamedDataset(['x', 'y'], [torch.tensor(X.values) / 255.0, y.values.astype(int)]))"
   ]
  },
  {
   "cell_type": "code",
   "execution_count": 6,
   "id": "ab09efcf56b9e3a9",
   "metadata": {
    "ExecuteTime": {
     "end_time": "2024-06-04T11:20:13.153992Z",
     "start_time": "2024-06-04T11:19:49.196908Z"
    }
   },
   "outputs": [
    {
     "name": "stderr",
     "output_type": "stream",
     "text": [
      "Failed to detect the name of this notebook, you can set it manually with the WANDB_NOTEBOOK_NAME environment variable to enable code saving.\n",
      "\u001b[34m\u001b[1mwandb\u001b[0m: Currently logged in as: \u001b[33mantonii-belyshev\u001b[0m. Use \u001b[1m`wandb login --relogin`\u001b[0m to force relogin\n"
     ]
    },
    {
     "data": {
      "text/html": [
       "wandb version 0.17.0 is available!  To upgrade, please run:\n",
       " $ pip install wandb --upgrade"
      ],
      "text/plain": [
       "<IPython.core.display.HTML object>"
      ]
     },
     "metadata": {},
     "output_type": "display_data"
    },
    {
     "data": {
      "text/html": [
       "Tracking run with wandb version 0.16.3"
      ],
      "text/plain": [
       "<IPython.core.display.HTML object>"
      ]
     },
     "metadata": {},
     "output_type": "display_data"
    },
    {
     "data": {
      "text/html": [
       "Run data is saved locally in <code>/home/antony/BMDS/wandb/run-20240604_132414-fa4zczsl</code>"
      ],
      "text/plain": [
       "<IPython.core.display.HTML object>"
      ]
     },
     "metadata": {},
     "output_type": "display_data"
    },
    {
     "data": {
      "text/html": [
       "Syncing run <strong><a href='https://wandb.ai/antonii-belyshev/default_project_parametrization/runs/fa4zczsl' target=\"_blank\">default_experiment</a></strong> to <a href='https://wandb.ai/antonii-belyshev/default_project_parametrization' target=\"_blank\">Weights & Biases</a> (<a href='https://wandb.me/run' target=\"_blank\">docs</a>)<br/>"
      ],
      "text/plain": [
       "<IPython.core.display.HTML object>"
      ]
     },
     "metadata": {},
     "output_type": "display_data"
    },
    {
     "data": {
      "text/html": [
       " View project at <a href='https://wandb.ai/antonii-belyshev/default_project_parametrization' target=\"_blank\">https://wandb.ai/antonii-belyshev/default_project_parametrization</a>"
      ],
      "text/plain": [
       "<IPython.core.display.HTML object>"
      ]
     },
     "metadata": {},
     "output_type": "display_data"
    },
    {
     "data": {
      "text/html": [
       " View run at <a href='https://wandb.ai/antonii-belyshev/default_project_parametrization/runs/fa4zczsl' target=\"_blank\">https://wandb.ai/antonii-belyshev/default_project_parametrization/runs/fa4zczsl</a>"
      ],
      "text/plain": [
       "<IPython.core.display.HTML object>"
      ]
     },
     "metadata": {},
     "output_type": "display_data"
    },
    {
     "name": "stderr",
     "output_type": "stream",
     "text": [
      "100%|██████████| 5000/5000 [01:22<00:00, 60.35it/s]\n",
      "wandb: WARNING Source type is set to 'repo' but some required information is missing from the environment. A job will not be created from this run. See https://docs.wandb.ai/guides/launch/create-job\n"
     ]
    },
    {
     "data": {
      "application/vnd.jupyter.widget-view+json": {
       "model_id": "34bee57433544edc8b4a9e5792623da4",
       "version_major": 2,
       "version_minor": 0
      },
      "text/plain": [
       "VBox(children=(Label(value='0.002 MB of 0.002 MB uploaded\\r'), FloatProgress(value=1.0, max=1.0)))"
      ]
     },
     "metadata": {},
     "output_type": "display_data"
    },
    {
     "data": {
      "text/html": [
       "<style>\n",
       "    table.wandb td:nth-child(1) { padding: 0 10px; text-align: left ; width: auto;} td:nth-child(2) {text-align: left ; width: 100%}\n",
       "    .wandb-row { display: flex; flex-direction: row; flex-wrap: wrap; justify-content: flex-start; width: 100% }\n",
       "    .wandb-col { display: flex; flex-direction: column; flex-basis: 100%; flex: 1; padding: 10px; }\n",
       "    </style>\n",
       "<div class=\"wandb-row\"><div class=\"wandb-col\"><h3>Run history:</h3><br/><table class=\"wandb\"><tr><td>loss/train</td><td>█▆▄▅▃▂▃▂▂▁▂▂▂▁▁▂▂▁▁▂▂▂▁▁▁▁▁▁▁▁▁▁▁▁▁▁▁▁▁▁</td></tr></table><br/></div><div class=\"wandb-col\"><h3>Run summary:</h3><br/><table class=\"wandb\"><tr><td>loss/train</td><td>0.00999</td></tr></table><br/></div></div>"
      ],
      "text/plain": [
       "<IPython.core.display.HTML object>"
      ]
     },
     "metadata": {},
     "output_type": "display_data"
    },
    {
     "data": {
      "text/html": [
       " View run <strong style=\"color:#cdcd00\">default_experiment</strong> at: <a href='https://wandb.ai/antonii-belyshev/default_project_parametrization/runs/fa4zczsl' target=\"_blank\">https://wandb.ai/antonii-belyshev/default_project_parametrization/runs/fa4zczsl</a><br/>Synced 6 W&B file(s), 0 media file(s), 0 artifact file(s) and 0 other file(s)"
      ],
      "text/plain": [
       "<IPython.core.display.HTML object>"
      ]
     },
     "metadata": {},
     "output_type": "display_data"
    },
    {
     "data": {
      "text/html": [
       "Find logs at: <code>./wandb/run-20240604_132414-fa4zczsl/logs</code>"
      ],
      "text/plain": [
       "<IPython.core.display.HTML object>"
      ]
     },
     "metadata": {},
     "output_type": "display_data"
    }
   ],
   "source": [
    "trainer = ClassifierTrainer(clf)\n",
    "\n",
    "trainer.train(train_generator)"
   ]
  },
  {
   "cell_type": "code",
   "execution_count": 4,
   "id": "14762152635d9926",
   "metadata": {
    "ExecuteTime": {
     "end_time": "2024-06-04T17:38:37.106188Z",
     "start_time": "2024-06-04T17:37:22.658949Z"
    }
   },
   "outputs": [
    {
     "name": "stderr",
     "output_type": "stream",
     "text": [
      "/home/antony/BMDS/utils/preprocessing.py:7: UserWarning: To copy construct from a tensor, it is recommended to use sourceTensor.clone().detach() or sourceTensor.clone().detach().requires_grad_(True), rather than torch.tensor(sourceTensor).\n",
      "  return torch.tensor(t, dtype=dtype, **kwargs)\n"
     ]
    },
    {
     "data": {
      "text/html": [
       "wandb version 0.17.0 is available!  To upgrade, please run:\n",
       " $ pip install wandb --upgrade"
      ],
      "text/plain": [
       "<IPython.core.display.HTML object>"
      ]
     },
     "metadata": {},
     "output_type": "display_data"
    },
    {
     "data": {
      "text/html": [
       "Tracking run with wandb version 0.16.3"
      ],
      "text/plain": [
       "<IPython.core.display.HTML object>"
      ]
     },
     "metadata": {},
     "output_type": "display_data"
    },
    {
     "data": {
      "text/html": [
       "Run data is saved locally in <code>/home/antony/BMDS/wandb/run-20240605_205955-3y5ggft6</code>"
      ],
      "text/plain": [
       "<IPython.core.display.HTML object>"
      ]
     },
     "metadata": {},
     "output_type": "display_data"
    },
    {
     "data": {
      "text/html": [
       "Syncing run <strong><a href='https://wandb.ai/antonii-belyshev/bmds/runs/3y5ggft6' target=\"_blank\">trial</a></strong> to <a href='https://wandb.ai/antonii-belyshev/bmds' target=\"_blank\">Weights & Biases</a> (<a href='https://wandb.me/run' target=\"_blank\">docs</a>)<br/>"
      ],
      "text/plain": [
       "<IPython.core.display.HTML object>"
      ]
     },
     "metadata": {},
     "output_type": "display_data"
    },
    {
     "data": {
      "text/html": [
       " View project at <a href='https://wandb.ai/antonii-belyshev/bmds' target=\"_blank\">https://wandb.ai/antonii-belyshev/bmds</a>"
      ],
      "text/plain": [
       "<IPython.core.display.HTML object>"
      ]
     },
     "metadata": {},
     "output_type": "display_data"
    },
    {
     "data": {
      "text/html": [
       " View run at <a href='https://wandb.ai/antonii-belyshev/bmds/runs/3y5ggft6' target=\"_blank\">https://wandb.ai/antonii-belyshev/bmds/runs/3y5ggft6</a>"
      ],
      "text/plain": [
       "<IPython.core.display.HTML object>"
      ]
     },
     "metadata": {},
     "output_type": "display_data"
    },
    {
     "name": "stderr",
     "output_type": "stream",
     "text": [
      "100%|██████████| 10000/10000 [06:24<00:00, 26.02it/s]\n",
      "wandb: WARNING Source type is set to 'repo' but some required information is missing from the environment. A job will not be created from this run. See https://docs.wandb.ai/guides/launch/create-job\n"
     ]
    },
    {
     "data": {
      "application/vnd.jupyter.widget-view+json": {
       "model_id": "efad362a29244125889bac0279a4d470",
       "version_major": 2,
       "version_minor": 0
      },
      "text/plain": [
       "VBox(children=(Label(value='0.002 MB of 0.002 MB uploaded\\r'), FloatProgress(value=1.0, max=1.0)))"
      ]
     },
     "metadata": {},
     "output_type": "display_data"
    },
    {
     "data": {
      "text/html": [
       "<style>\n",
       "    table.wandb td:nth-child(1) { padding: 0 10px; text-align: left ; width: auto;} td:nth-child(2) {text-align: left ; width: 100%}\n",
       "    .wandb-row { display: flex; flex-direction: row; flex-wrap: wrap; justify-content: flex-start; width: 100% }\n",
       "    .wandb-col { display: flex; flex-direction: column; flex-basis: 100%; flex: 1; padding: 10px; }\n",
       "    </style>\n",
       "<div class=\"wandb-row\"><div class=\"wandb-col\"><h3>Run history:</h3><br/><table class=\"wandb\"><tr><td>log_prob/train</td><td>▁▁▁▂▂▁▂▃▃▃▃▃▃▄▄▄▄▄▅▅▅▅▆▆▆▆▆▆▇▇▇▇▇▇▇▇████</td></tr><tr><td>loglam #0/train</td><td>▁▁▁▁▁▁▁▁▁▁▁▁▁▁▁▁▁▁▁▁▁▁▁▁▁▁▁▁▁▁▁▁▁▁▁▁▁▁▁▁</td></tr><tr><td>loglam #1/train</td><td>▁▁▁▁▁▁▁▁▁▁▁▁▁▁▁▁▁▁▁▁▁▁▁▁▁▁▁▁▁▁▁▁▁▁▁▁▁▁▁▁</td></tr><tr><td>loglam #2/train</td><td>▁▁▁▁▁▁▁▁▁▁▁▁▁▁▁▁▁▁▁▁▁▁▁▁▁▁▁▁▁▁▁▁▁▁▁▁▁▁▁▁</td></tr><tr><td>loglam #3/train</td><td>▁▁▁▁▁▁▁▁▁▁▁▁▁▁▁▁▁▁▁▁▁▁▁▁▁▁▁▁▁▁▁▁▁▁▁▁▁▁▁▁</td></tr><tr><td>loglam #4/train</td><td>▁▁▁▁▁▁▁▁▁▁▁▁▁▁▁▁▁▁▁▁▁▁▁▁▁▁▁▁▁▁▁▁▁▁▁▁▁▁▁▁</td></tr><tr><td>loss/train</td><td>███▇▇▇▇▆▆▆▆▆▆▅▅▅▄▄▄▄▄▄▃▃▃▃▃▃▂▂▂▂▂▂▂▂▁▁▁▁</td></tr><tr><td>reg/train</td><td>█▃▂▁▁▁▁▁▁▁▁▁▁▁▁▁▁▁▁▁▁▁▁▁▁▁▁▁▁▁▁▁▁▁▁▁▁▁▁▁</td></tr><tr><td>scale #0/train</td><td>█▃▂▂▂▁▁▁▁▁▁▁▁▁▁▁▁▁▁▁▁▁▁▁▁▁▁▁▁▁▁▁▁▁▁▁▁▁▁▁</td></tr><tr><td>scale #1/train</td><td>█▃▂▂▂▂▁▁▁▁▁▁▁▁▁▁▁▁▁▁▁▁▁▁▁▁▁▁▁▁▁▁▁▁▁▁▁▁▁▁</td></tr><tr><td>scale #2/train</td><td>█▃▂▂▂▂▁▁▁▁▁▁▁▁▁▁▁▁▁▁▁▁▁▁▁▁▁▁▁▁▁▁▁▁▁▁▁▁▁▁</td></tr><tr><td>scale #3/train</td><td>█▃▂▂▂▂▁▁▁▁▁▁▁▁▁▁▁▁▁▁▁▁▁▁▁▁▁▁▁▁▁▁▁▁▁▁▁▁▁▁</td></tr><tr><td>scale #4/train</td><td>█▃▂▂▂▂▂▁▁▁▁▁▁▁▁▁▁▁▁▁▁▁▁▁▁▁▁▁▁▁▁▁▁▁▁▁▁▁▁▁</td></tr></table><br/></div><div class=\"wandb-col\"><h3>Run summary:</h3><br/><table class=\"wandb\"><tr><td>log_prob/train</td><td>-0.24634</td></tr><tr><td>loglam #0/train</td><td>0.01</td></tr><tr><td>loglam #1/train</td><td>0.01</td></tr><tr><td>loglam #2/train</td><td>0.01</td></tr><tr><td>loglam #3/train</td><td>0.01</td></tr><tr><td>loglam #4/train</td><td>0.01</td></tr><tr><td>loss/train</td><td>0.24647</td></tr><tr><td>reg/train</td><td>0.00013</td></tr><tr><td>scale #0/train</td><td>0.00645</td></tr><tr><td>scale #1/train</td><td>0.00642</td></tr><tr><td>scale #2/train</td><td>0.00617</td></tr><tr><td>scale #3/train</td><td>0.00615</td></tr><tr><td>scale #4/train</td><td>0.00599</td></tr></table><br/></div></div>"
      ],
      "text/plain": [
       "<IPython.core.display.HTML object>"
      ]
     },
     "metadata": {},
     "output_type": "display_data"
    },
    {
     "data": {
      "text/html": [
       " View run <strong style=\"color:#cdcd00\">trial</strong> at: <a href='https://wandb.ai/antonii-belyshev/bmds/runs/3y5ggft6' target=\"_blank\">https://wandb.ai/antonii-belyshev/bmds/runs/3y5ggft6</a><br/>Synced 6 W&B file(s), 0 media file(s), 0 artifact file(s) and 0 other file(s)"
      ],
      "text/plain": [
       "<IPython.core.display.HTML object>"
      ]
     },
     "metadata": {},
     "output_type": "display_data"
    },
    {
     "data": {
      "text/html": [
       "Find logs at: <code>./wandb/run-20240605_205955-3y5ggft6/logs</code>"
      ],
      "text/plain": [
       "<IPython.core.display.HTML object>"
      ]
     },
     "metadata": {},
     "output_type": "display_data"
    }
   ],
   "source": [
    "from utils.bmds import BMDS, BMDSTrainer\n",
    "from utils.bmds_data import DefaultBMDSDataset\n",
    "import torch\n",
    "\n",
    "\n",
    "def create_generator(dataset: torch.utils.data.Dataset, batch_size: int = 128, shuffle: bool = True, drop_last: bool = True, **kwargs):\n",
    "    loader = torch.utils.data.DataLoader(dataset, batch_size=batch_size, shuffle=shuffle, drop_last=drop_last, **kwargs)\n",
    "    while True:\n",
    "        yield from loader\n",
    "\n",
    "\n",
    "x = torch.randn(100, 2)\n",
    "\n",
    "dist = (x[:, None] - x).pow(2).sum(2).pow(0.5)\n",
    "\n",
    "bmds = BMDS(100, 100, hidden_dim=100)\n",
    "bmds_trainer = BMDSTrainer(bmds, lr=1e-4)\n",
    "bmds_dataset = DefaultBMDSDataset(dist)\n",
    "\n",
    "bmds_trainer.train(create_generator(bmds_dataset, batch_size=1000), project_name='bmds', experiment_name='trial', total_iters=10000)"
   ]
  },
  {
   "cell_type": "code",
   "execution_count": 2,
   "id": "2cf9baa2",
   "metadata": {},
   "outputs": [
    {
     "data": {
      "text/plain": [
       "[tensor(0.0100, grad_fn=<UnbindBackward0>),\n",
       " tensor(0.0100, grad_fn=<UnbindBackward0>),\n",
       " tensor(0.0100, grad_fn=<UnbindBackward0>),\n",
       " tensor(0.0100, grad_fn=<UnbindBackward0>),\n",
       " tensor(0.0100, grad_fn=<UnbindBackward0>),\n",
       " tensor(0.0100, grad_fn=<UnbindBackward0>),\n",
       " tensor(0.0100, grad_fn=<UnbindBackward0>),\n",
       " tensor(0.0100, grad_fn=<UnbindBackward0>),\n",
       " tensor(0.0100, grad_fn=<UnbindBackward0>),\n",
       " tensor(0.0100, grad_fn=<UnbindBackward0>),\n",
       " tensor(0.0100, grad_fn=<UnbindBackward0>),\n",
       " tensor(0.0100, grad_fn=<UnbindBackward0>),\n",
       " tensor(0.0100, grad_fn=<UnbindBackward0>),\n",
       " tensor(0.0100, grad_fn=<UnbindBackward0>),\n",
       " tensor(0.0100, grad_fn=<UnbindBackward0>),\n",
       " tensor(0.0100, grad_fn=<UnbindBackward0>),\n",
       " tensor(0.0100, grad_fn=<UnbindBackward0>),\n",
       " tensor(0.0100, grad_fn=<UnbindBackward0>),\n",
       " tensor(0.0100, grad_fn=<UnbindBackward0>),\n",
       " tensor(0.0100, grad_fn=<UnbindBackward0>),\n",
       " tensor(0.0100, grad_fn=<UnbindBackward0>),\n",
       " tensor(0.0100, grad_fn=<UnbindBackward0>),\n",
       " tensor(0.0100, grad_fn=<UnbindBackward0>),\n",
       " tensor(0.0100, grad_fn=<UnbindBackward0>),\n",
       " tensor(0.0100, grad_fn=<UnbindBackward0>),\n",
       " tensor(0.0100, grad_fn=<UnbindBackward0>),\n",
       " tensor(0.0100, grad_fn=<UnbindBackward0>),\n",
       " tensor(0.0100, grad_fn=<UnbindBackward0>),\n",
       " tensor(0.0100, grad_fn=<UnbindBackward0>),\n",
       " tensor(0.0100, grad_fn=<UnbindBackward0>),\n",
       " tensor(0.0100, grad_fn=<UnbindBackward0>),\n",
       " tensor(0.0100, grad_fn=<UnbindBackward0>),\n",
       " tensor(0.0100, grad_fn=<UnbindBackward0>),\n",
       " tensor(0.0100, grad_fn=<UnbindBackward0>),\n",
       " tensor(0.0100, grad_fn=<UnbindBackward0>),\n",
       " tensor(0.0100, grad_fn=<UnbindBackward0>),\n",
       " tensor(0.0100, grad_fn=<UnbindBackward0>),\n",
       " tensor(0.0100, grad_fn=<UnbindBackward0>),\n",
       " tensor(0.0100, grad_fn=<UnbindBackward0>),\n",
       " tensor(0.0100, grad_fn=<UnbindBackward0>),\n",
       " tensor(0.0100, grad_fn=<UnbindBackward0>),\n",
       " tensor(0.0100, grad_fn=<UnbindBackward0>),\n",
       " tensor(0.0100, grad_fn=<UnbindBackward0>),\n",
       " tensor(0.0100, grad_fn=<UnbindBackward0>),\n",
       " tensor(0.0100, grad_fn=<UnbindBackward0>),\n",
       " tensor(0.0100, grad_fn=<UnbindBackward0>),\n",
       " tensor(0.0100, grad_fn=<UnbindBackward0>),\n",
       " tensor(0.0100, grad_fn=<UnbindBackward0>),\n",
       " tensor(0.0100, grad_fn=<UnbindBackward0>),\n",
       " tensor(0.0100, grad_fn=<UnbindBackward0>),\n",
       " tensor(0.0100, grad_fn=<UnbindBackward0>),\n",
       " tensor(0.0100, grad_fn=<UnbindBackward0>),\n",
       " tensor(0.0100, grad_fn=<UnbindBackward0>),\n",
       " tensor(0.0100, grad_fn=<UnbindBackward0>),\n",
       " tensor(0.0100, grad_fn=<UnbindBackward0>),\n",
       " tensor(0.0100, grad_fn=<UnbindBackward0>),\n",
       " tensor(0.0100, grad_fn=<UnbindBackward0>),\n",
       " tensor(0.0100, grad_fn=<UnbindBackward0>),\n",
       " tensor(0.0100, grad_fn=<UnbindBackward0>),\n",
       " tensor(0.0100, grad_fn=<UnbindBackward0>),\n",
       " tensor(0.0100, grad_fn=<UnbindBackward0>),\n",
       " tensor(0.0100, grad_fn=<UnbindBackward0>),\n",
       " tensor(0.0100, grad_fn=<UnbindBackward0>),\n",
       " tensor(0.0100, grad_fn=<UnbindBackward0>),\n",
       " tensor(0.0100, grad_fn=<UnbindBackward0>),\n",
       " tensor(0.0100, grad_fn=<UnbindBackward0>),\n",
       " tensor(0.0100, grad_fn=<UnbindBackward0>),\n",
       " tensor(0.0100, grad_fn=<UnbindBackward0>),\n",
       " tensor(0.0100, grad_fn=<UnbindBackward0>),\n",
       " tensor(0.0100, grad_fn=<UnbindBackward0>),\n",
       " tensor(0.0100, grad_fn=<UnbindBackward0>),\n",
       " tensor(0.0100, grad_fn=<UnbindBackward0>),\n",
       " tensor(0.0100, grad_fn=<UnbindBackward0>),\n",
       " tensor(0.0100, grad_fn=<UnbindBackward0>),\n",
       " tensor(0.0100, grad_fn=<UnbindBackward0>),\n",
       " tensor(0.0100, grad_fn=<UnbindBackward0>),\n",
       " tensor(0.0100, grad_fn=<UnbindBackward0>),\n",
       " tensor(0.0100, grad_fn=<UnbindBackward0>),\n",
       " tensor(0.0100, grad_fn=<UnbindBackward0>),\n",
       " tensor(0.0100, grad_fn=<UnbindBackward0>),\n",
       " tensor(0.0100, grad_fn=<UnbindBackward0>),\n",
       " tensor(0.0100, grad_fn=<UnbindBackward0>),\n",
       " tensor(0.0100, grad_fn=<UnbindBackward0>),\n",
       " tensor(0.0100, grad_fn=<UnbindBackward0>),\n",
       " tensor(0.0100, grad_fn=<UnbindBackward0>),\n",
       " tensor(0.0100, grad_fn=<UnbindBackward0>),\n",
       " tensor(0.0100, grad_fn=<UnbindBackward0>),\n",
       " tensor(0.0100, grad_fn=<UnbindBackward0>),\n",
       " tensor(0.0100, grad_fn=<UnbindBackward0>),\n",
       " tensor(0.0100, grad_fn=<UnbindBackward0>),\n",
       " tensor(0.0100, grad_fn=<UnbindBackward0>),\n",
       " tensor(0.0100, grad_fn=<UnbindBackward0>),\n",
       " tensor(0.0100, grad_fn=<UnbindBackward0>),\n",
       " tensor(0.0100, grad_fn=<UnbindBackward0>),\n",
       " tensor(0.0100, grad_fn=<UnbindBackward0>),\n",
       " tensor(0.0100, grad_fn=<UnbindBackward0>),\n",
       " tensor(0.0100, grad_fn=<UnbindBackward0>),\n",
       " tensor(0.0100, grad_fn=<UnbindBackward0>),\n",
       " tensor(0.0100, grad_fn=<UnbindBackward0>),\n",
       " tensor(0.0100, grad_fn=<UnbindBackward0>)]"
      ]
     },
     "execution_count": 2,
     "metadata": {},
     "output_type": "execute_result"
    }
   ],
   "source": [
    "sorted(bmds.log_lambda)"
   ]
  },
  {
   "cell_type": "code",
   "execution_count": 4,
   "id": "0ed86570",
   "metadata": {},
   "outputs": [],
   "source": [
    "mu = bmds(dist)"
   ]
  },
  {
   "cell_type": "code",
   "execution_count": 6,
   "id": "3182e25a",
   "metadata": {},
   "outputs": [
    {
     "data": {
      "text/plain": [
       "[tensor(7.2029e-06, grad_fn=<UnbindBackward0>),\n",
       " tensor(9.6591e-06, grad_fn=<UnbindBackward0>),\n",
       " tensor(1.1087e-05, grad_fn=<UnbindBackward0>),\n",
       " tensor(1.2270e-05, grad_fn=<UnbindBackward0>),\n",
       " tensor(1.3462e-05, grad_fn=<UnbindBackward0>),\n",
       " tensor(1.6875e-05, grad_fn=<UnbindBackward0>),\n",
       " tensor(1.8600e-05, grad_fn=<UnbindBackward0>),\n",
       " tensor(1.9149e-05, grad_fn=<UnbindBackward0>),\n",
       " tensor(2.3443e-05, grad_fn=<UnbindBackward0>),\n",
       " tensor(2.4978e-05, grad_fn=<UnbindBackward0>),\n",
       " tensor(2.5925e-05, grad_fn=<UnbindBackward0>),\n",
       " tensor(2.7593e-05, grad_fn=<UnbindBackward0>),\n",
       " tensor(3.0630e-05, grad_fn=<UnbindBackward0>),\n",
       " tensor(3.1121e-05, grad_fn=<UnbindBackward0>),\n",
       " tensor(3.1462e-05, grad_fn=<UnbindBackward0>),\n",
       " tensor(3.3057e-05, grad_fn=<UnbindBackward0>),\n",
       " tensor(4.2357e-05, grad_fn=<UnbindBackward0>),\n",
       " tensor(5.2929e-05, grad_fn=<UnbindBackward0>),\n",
       " tensor(5.6328e-05, grad_fn=<UnbindBackward0>),\n",
       " tensor(5.6675e-05, grad_fn=<UnbindBackward0>),\n",
       " tensor(5.7745e-05, grad_fn=<UnbindBackward0>),\n",
       " tensor(6.4135e-05, grad_fn=<UnbindBackward0>),\n",
       " tensor(6.7122e-05, grad_fn=<UnbindBackward0>),\n",
       " tensor(7.5180e-05, grad_fn=<UnbindBackward0>),\n",
       " tensor(7.6416e-05, grad_fn=<UnbindBackward0>),\n",
       " tensor(8.0295e-05, grad_fn=<UnbindBackward0>),\n",
       " tensor(8.1120e-05, grad_fn=<UnbindBackward0>),\n",
       " tensor(8.2748e-05, grad_fn=<UnbindBackward0>),\n",
       " tensor(8.4091e-05, grad_fn=<UnbindBackward0>),\n",
       " tensor(8.5666e-05, grad_fn=<UnbindBackward0>),\n",
       " tensor(9.0943e-05, grad_fn=<UnbindBackward0>),\n",
       " tensor(0.0001, grad_fn=<UnbindBackward0>),\n",
       " tensor(0.0001, grad_fn=<UnbindBackward0>),\n",
       " tensor(0.0001, grad_fn=<UnbindBackward0>),\n",
       " tensor(0.0001, grad_fn=<UnbindBackward0>),\n",
       " tensor(0.0001, grad_fn=<UnbindBackward0>),\n",
       " tensor(0.0001, grad_fn=<UnbindBackward0>),\n",
       " tensor(0.0001, grad_fn=<UnbindBackward0>),\n",
       " tensor(0.0001, grad_fn=<UnbindBackward0>),\n",
       " tensor(0.0001, grad_fn=<UnbindBackward0>),\n",
       " tensor(0.0001, grad_fn=<UnbindBackward0>),\n",
       " tensor(0.0001, grad_fn=<UnbindBackward0>),\n",
       " tensor(0.0001, grad_fn=<UnbindBackward0>),\n",
       " tensor(0.0001, grad_fn=<UnbindBackward0>),\n",
       " tensor(0.0002, grad_fn=<UnbindBackward0>),\n",
       " tensor(0.0002, grad_fn=<UnbindBackward0>),\n",
       " tensor(0.0002, grad_fn=<UnbindBackward0>),\n",
       " tensor(0.0002, grad_fn=<UnbindBackward0>),\n",
       " tensor(0.0002, grad_fn=<UnbindBackward0>),\n",
       " tensor(0.0002, grad_fn=<UnbindBackward0>),\n",
       " tensor(0.0002, grad_fn=<UnbindBackward0>),\n",
       " tensor(0.0003, grad_fn=<UnbindBackward0>),\n",
       " tensor(0.0003, grad_fn=<UnbindBackward0>),\n",
       " tensor(0.0003, grad_fn=<UnbindBackward0>),\n",
       " tensor(0.0003, grad_fn=<UnbindBackward0>),\n",
       " tensor(0.0003, grad_fn=<UnbindBackward0>),\n",
       " tensor(0.0003, grad_fn=<UnbindBackward0>),\n",
       " tensor(0.0003, grad_fn=<UnbindBackward0>),\n",
       " tensor(0.0004, grad_fn=<UnbindBackward0>),\n",
       " tensor(0.0004, grad_fn=<UnbindBackward0>),\n",
       " tensor(0.0004, grad_fn=<UnbindBackward0>),\n",
       " tensor(0.0004, grad_fn=<UnbindBackward0>),\n",
       " tensor(0.0004, grad_fn=<UnbindBackward0>),\n",
       " tensor(0.0005, grad_fn=<UnbindBackward0>),\n",
       " tensor(0.0005, grad_fn=<UnbindBackward0>),\n",
       " tensor(0.0005, grad_fn=<UnbindBackward0>),\n",
       " tensor(0.0006, grad_fn=<UnbindBackward0>),\n",
       " tensor(0.0006, grad_fn=<UnbindBackward0>),\n",
       " tensor(0.0006, grad_fn=<UnbindBackward0>),\n",
       " tensor(0.0007, grad_fn=<UnbindBackward0>),\n",
       " tensor(0.0007, grad_fn=<UnbindBackward0>),\n",
       " tensor(0.0007, grad_fn=<UnbindBackward0>),\n",
       " tensor(0.0008, grad_fn=<UnbindBackward0>),\n",
       " tensor(0.0008, grad_fn=<UnbindBackward0>),\n",
       " tensor(0.0008, grad_fn=<UnbindBackward0>),\n",
       " tensor(0.0009, grad_fn=<UnbindBackward0>),\n",
       " tensor(0.0012, grad_fn=<UnbindBackward0>),\n",
       " tensor(0.0013, grad_fn=<UnbindBackward0>),\n",
       " tensor(0.0014, grad_fn=<UnbindBackward0>),\n",
       " tensor(0.0014, grad_fn=<UnbindBackward0>),\n",
       " tensor(0.0015, grad_fn=<UnbindBackward0>),\n",
       " tensor(0.0016, grad_fn=<UnbindBackward0>),\n",
       " tensor(0.0021, grad_fn=<UnbindBackward0>),\n",
       " tensor(0.0026, grad_fn=<UnbindBackward0>),\n",
       " tensor(0.0028, grad_fn=<UnbindBackward0>),\n",
       " tensor(0.0030, grad_fn=<UnbindBackward0>),\n",
       " tensor(0.0032, grad_fn=<UnbindBackward0>),\n",
       " tensor(0.0045, grad_fn=<UnbindBackward0>),\n",
       " tensor(0.0188, grad_fn=<UnbindBackward0>),\n",
       " tensor(0.0246, grad_fn=<UnbindBackward0>),\n",
       " tensor(0.0721, grad_fn=<UnbindBackward0>),\n",
       " tensor(0.1585, grad_fn=<UnbindBackward0>),\n",
       " tensor(0.2800, grad_fn=<UnbindBackward0>),\n",
       " tensor(0.3289, grad_fn=<UnbindBackward0>),\n",
       " tensor(0.4517, grad_fn=<UnbindBackward0>),\n",
       " tensor(0.5217, grad_fn=<UnbindBackward0>),\n",
       " tensor(0.5310, grad_fn=<UnbindBackward0>),\n",
       " tensor(0.7815, grad_fn=<UnbindBackward0>),\n",
       " tensor(0.9039, grad_fn=<UnbindBackward0>),\n",
       " tensor(1.0690, grad_fn=<UnbindBackward0>)]"
      ]
     },
     "execution_count": 6,
     "metadata": {},
     "output_type": "execute_result"
    }
   ],
   "source": [
    "sorted(mu.pow(2).mean(0))"
   ]
  },
  {
   "cell_type": "code",
   "execution_count": null,
   "id": "af2c9142",
   "metadata": {},
   "outputs": [],
   "source": []
  }
 ],
 "metadata": {
  "kernelspec": {
   "display_name": "Python 3",
   "language": "python",
   "name": "python3"
  },
  "language_info": {
   "codemirror_mode": {
    "name": "ipython",
    "version": 3
   },
   "file_extension": ".py",
   "mimetype": "text/x-python",
   "name": "python",
   "nbconvert_exporter": "python",
   "pygments_lexer": "ipython3",
   "version": "3.9.6"
  }
 },
 "nbformat": 4,
 "nbformat_minor": 5
}
