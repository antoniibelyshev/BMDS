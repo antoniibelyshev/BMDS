{
 "cells": [
  {
   "cell_type": "code",
   "outputs": [],
   "source": [
    "import os\n",
    "from tqdm import trange\n",
    "\n",
    "from sklearn.datasets import fetch_openml\n",
    "from sklearn.model_selection import KFold\n",
    "from sklearn.metrics import accuracy_score\n",
    "import numpy as np\n",
    "import pandas as pd\n",
    "import torch\n",
    "import wandb\n",
    "from pytorch_lightning import loggers\n",
    "from netrd.distance import IpsenMikhailov\n",
    "\n",
    "import utils"
   ],
   "metadata": {
    "collapsed": false,
    "ExecuteTime": {
     "end_time": "2024-03-04T09:10:19.803627355Z",
     "start_time": "2024-03-04T09:10:18.240604766Z"
    }
   },
   "id": "5a4ccb02eefdcebb",
   "execution_count": 3
  },
  {
   "cell_type": "code",
   "outputs": [
    {
     "ename": "FileNotFoundError",
     "evalue": "[Errno 2] No such file or directory: 'a'",
     "output_type": "error",
     "traceback": [
      "\u001B[0;31m---------------------------------------------------------------------------\u001B[0m",
      "\u001B[0;31mFileNotFoundError\u001B[0m                         Traceback (most recent call last)",
      "Cell \u001B[0;32mIn[14], line 9\u001B[0m\n\u001B[1;32m      7\u001B[0m     N \u001B[38;5;241m=\u001B[39m \u001B[38;5;28mlen\u001B[39m(X)\n\u001B[1;32m      8\u001B[0m \u001B[38;5;28;01melse\u001B[39;00m:\n\u001B[0;32m----> 9\u001B[0m     \u001B[43mnp\u001B[49m\u001B[38;5;241;43m.\u001B[39;49m\u001B[43mload\u001B[49m\u001B[43m(\u001B[49m\u001B[38;5;124;43m\"\u001B[39;49m\u001B[38;5;124;43ma\u001B[39;49m\u001B[38;5;124;43m\"\u001B[39;49m\u001B[43m)\u001B[49m\n\u001B[1;32m     10\u001B[0m     N \u001B[38;5;241m=\u001B[39m \u001B[38;5;241m10000\u001B[39m\n\u001B[1;32m     11\u001B[0m     mnist \u001B[38;5;241m=\u001B[39m fetch_openml(\u001B[38;5;124m\"\u001B[39m\u001B[38;5;124mmnist_784\u001B[39m\u001B[38;5;124m\"\u001B[39m, version\u001B[38;5;241m=\u001B[39m\u001B[38;5;241m1\u001B[39m)\n",
      "File \u001B[0;32m~/anaconda3/envs/bayes/lib/python3.9/site-packages/numpy/lib/npyio.py:407\u001B[0m, in \u001B[0;36mload\u001B[0;34m(file, mmap_mode, allow_pickle, fix_imports, encoding)\u001B[0m\n\u001B[1;32m    405\u001B[0m     own_fid \u001B[38;5;241m=\u001B[39m \u001B[38;5;28;01mFalse\u001B[39;00m\n\u001B[1;32m    406\u001B[0m \u001B[38;5;28;01melse\u001B[39;00m:\n\u001B[0;32m--> 407\u001B[0m     fid \u001B[38;5;241m=\u001B[39m stack\u001B[38;5;241m.\u001B[39menter_context(\u001B[38;5;28;43mopen\u001B[39;49m\u001B[43m(\u001B[49m\u001B[43mos_fspath\u001B[49m\u001B[43m(\u001B[49m\u001B[43mfile\u001B[49m\u001B[43m)\u001B[49m\u001B[43m,\u001B[49m\u001B[43m \u001B[49m\u001B[38;5;124;43m\"\u001B[39;49m\u001B[38;5;124;43mrb\u001B[39;49m\u001B[38;5;124;43m\"\u001B[39;49m\u001B[43m)\u001B[49m)\n\u001B[1;32m    408\u001B[0m     own_fid \u001B[38;5;241m=\u001B[39m \u001B[38;5;28;01mTrue\u001B[39;00m\n\u001B[1;32m    410\u001B[0m \u001B[38;5;66;03m# Code to distinguish from NumPy binary files and pickles.\u001B[39;00m\n",
      "\u001B[0;31mFileNotFoundError\u001B[0m: [Errno 2] No such file or directory: 'a'"
     ]
    }
   ],
   "source": [
    "if not os.path.isdir(\"./data\"):\n",
    "    !mkdir data\n",
    "\n",
    "filename = \"./data/proteins.npz\"\n",
    "if os.path.isfile(filename):\n",
    "    proteins, labels, dist_mat = np.load(filename).values()\n",
    "else:\n",
    "    proteins, labels = utils.read_graph_dataset(\"PROTEINS\")\n",
    "    N = len(proteins)\n",
    "    \n",
    "    ipsen_mikhailov_distance = IpsenMikhailov()\n",
    "    dist_mat = np.zeros((N, N), dtype=float)\n",
    "    for i in trange(N):\n",
    "        for j in range(i):\n",
    "            dist_mat[i, j] = dist_mat[j, i] = ipsen_mikhailov_distance(proteins[i], proteins[j])\n",
    "            \n",
    "    np.savez(filename, digits=digits, labels=labels, dist_mat=dist_mat)"
   ],
   "metadata": {
    "collapsed": false,
    "ExecuteTime": {
     "end_time": "2024-03-04T09:12:41.544603699Z",
     "start_time": "2024-03-04T09:12:41.374481511Z"
    }
   },
   "id": "7c2c7a2210878cfb",
   "execution_count": 14
  },
  {
   "cell_type": "code",
   "outputs": [],
   "source": [
    "metrics = {\n",
    "    \"bmds_train_acc\": [],\n",
    "    \"bmds_eval_acc\": [],\n",
    "    \"bmds_eval_acc_bayes\": [],\n",
    "    \"pca_train_acc\": [],\n",
    "    \"pca_eval_acc\": [],\n",
    "}\n",
    "\n",
    "k_fold = KFold(n_splits=5, shuffle=True, random_state=42)\n",
    "for idx_train, idx_eval in k_fold.split(torch.arange(N)):\n",
    "    digits_train, digits_eval = digits[idx_train], digits[idx_eval]\n",
    "    labels_train, labels_eval = labels[idx_train], labels[idx_eval]\n",
    "    dist_mat_train, dist_mat_eval = dist_mat[idx_train[:, None], idx_train], dist_mat[idx_train[:, None], idx_eval]\n",
    "    \n",
    "    bmds = utils.SklearnBMDS(bmds_train_kwargs={\"max_dim\": 100, \"threshold\": 0.2})\n",
    "    \n",
    "    run = wandb.init(project=\"mnist bmds train\")\n",
    "    logger = loggers.WandbLogger()\n",
    "    x_train, std_train = bmds.fit_tranform(dist_mat_train, max_epochs=3, logger=logger)\n",
    "    run.finish()\n",
    "    \n",
    "    run = wandb.init(project=\"mnist bmds eval\")\n",
    "    logger = loggers.WandbLogger()\n",
    "    x_eval, std_eval = bmds.transform(dist_mat_eval, logger=logger)\n",
    "    run.finish()\n",
    "    \n",
    "    clf = utils.SklearnMLPClassifier(labels_train.max() + 1)\n",
    "    run = wandb.init(project=\"mnist bmds clf\")\n",
    "    logger = loggers.WandbLogger()\n",
    "    pred_train = clf.fit_transform(x_train, labels_train, std_train, logger=logger)\n",
    "    pred_eval = clf.prdedict(x_eval)\n",
    "    pred_eval_bayes = clf.predict(x_eval, std_eval)\n",
    "    logger.log_hyperparams({\n",
    "        \"train_acc\": accuracy_score(pred_train, labels_train),\n",
    "        \"eval_acc\": accuracy_score(pred_eval, labels_eval),\n",
    "        \"eval_acc_bayes\": accuracy_score(pred_eval_bayes, labels_eval),\n",
    "    })\n",
    "    run.finish()\n",
    "    \n",
    "    metrics[\"bmds_train_acc\"].append(accuracy_score(pred_train, labels_train))\n",
    "    metrics[\"bmds_eval_acc\"].append(accuracy_score(pred_eval, labels_eval))\n",
    "    metrics[\"bmds_eval_acc_bayes\"].append(accuracy_score(pred_eval_bayes, labels_eval))\n",
    "    \n",
    "    \n",
    "    pca = PCA(n_components=bmds.dim)\n",
    "    pca_train = pca.fit_transform(digits_train)\n",
    "    pca_eval = pca.transform(digits_eval)\n",
    "    \n",
    "    clf = utils.SklearnMLPClassifier(labels_train.max() + 1)\n",
    "    run = wandb.init(project=\"mnist pca clf\")\n",
    "    logger = loggers.WandbLogger()\n",
    "    pred_train = clf.fit_transform(pca_train, labels_train, logger=logger)\n",
    "    pred_eval = clf.prdedict(pca_eval)\n",
    "    logger.log_hyperparams({\n",
    "        \"train_acc\": accuracy_score(pred_train, labels_train),\n",
    "        \"eval_acc\": accuracy_score(pred_eval, labels_eval),\n",
    "    })\n",
    "    run.finish()\n",
    "    \n",
    "    metrics[\"pca_train_acc\"].append(accuracy_score(pred_train, labels_train))\n",
    "    metrics[\"pca_eval_acc\"].append(accuracy_score(pred_eval, labels_eval))"
   ],
   "metadata": {
    "collapsed": false
   },
   "id": "4f3ce73cac85a10e"
  },
  {
   "cell_type": "code",
   "outputs": [],
   "source": [
    "metrics_df = pd.DataFrame(metrics)\n",
    "metrics_df"
   ],
   "metadata": {
    "collapsed": false
   },
   "id": "5aecd1fbd12324c7"
  },
  {
   "cell_type": "code",
   "outputs": [],
   "source": [
    "mean_values = metrics_df.mean()\n",
    "std_values = metrics_df.std()\n",
    "\n",
    "summary_df = pd.DataFrame([mean_values, std_values], index=['Mean', 'Std'])\n",
    "summary_df"
   ],
   "metadata": {
    "collapsed": false
   },
   "id": "73fcd265c9708672"
  }
 ],
 "metadata": {
  "kernelspec": {
   "display_name": "Python 3",
   "language": "python",
   "name": "python3"
  },
  "language_info": {
   "codemirror_mode": {
    "name": "ipython",
    "version": 2
   },
   "file_extension": ".py",
   "mimetype": "text/x-python",
   "name": "python",
   "nbconvert_exporter": "python",
   "pygments_lexer": "ipython2",
   "version": "2.7.6"
  }
 },
 "nbformat": 4,
 "nbformat_minor": 5
}
